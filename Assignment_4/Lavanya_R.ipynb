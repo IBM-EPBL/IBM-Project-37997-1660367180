{
  "nbformat": 4,
  "nbformat_minor": 0,
  "metadata": {
    "colab": {
      "provenance": [],
      "collapsed_sections": []
    },
    "kernelspec": {
      "name": "python3",
      "display_name": "Python 3"
    },
    "language_info": {
      "name": "python"
    }
  },
  "cells": [
    {
      "cell_type": "code",
      "execution_count": 1,
      "metadata": {
        "colab": {
          "base_uri": "https://localhost:8080/"
        },
        "id": "0Ej22fhw9lxQ",
        "outputId": "183c7cd8-d3b7-4aa2-ae6f-fa04966ceefb"
      },
      "outputs": [
        {
          "output_type": "stream",
          "name": "stdout",
          "text": [
            "Mounted at /content/drive\n"
          ]
        }
      ],
      "source": [
        "from google.colab import drive\n",
        "drive.mount('/content/drive')"
      ]
    },
    {
      "cell_type": "markdown",
      "source": [
        "2.LOADING OF DATASET"
      ],
      "metadata": {
        "id": "EAgw3cTF-INL"
      }
    },
    {
      "cell_type": "code",
      "source": [
        "import pandas as pd\n",
        "df=pd.read_csv('/content/drive/My Drive/Dataset/Mall_Customers.csv')\n",
        "df.head(10)"
      ],
      "metadata": {
        "colab": {
          "base_uri": "https://localhost:8080/",
          "height": 363
        },
        "id": "89lzXRKN-RRp",
        "outputId": "0ce1a316-5ac5-4ad0-ffab-74551135aee4"
      },
      "execution_count": 2,
      "outputs": [
        {
          "output_type": "execute_result",
          "data": {
            "text/plain": [
              "   CustomerID  Gender  Age  Annual Income (k$)  Spending Score (1-100)\n",
              "0           1    Male   19                  15                      39\n",
              "1           2    Male   21                  15                      81\n",
              "2           3  Female   20                  16                       6\n",
              "3           4  Female   23                  16                      77\n",
              "4           5  Female   31                  17                      40\n",
              "5           6  Female   22                  17                      76\n",
              "6           7  Female   35                  18                       6\n",
              "7           8  Female   23                  18                      94\n",
              "8           9    Male   64                  19                       3\n",
              "9          10  Female   30                  19                      72"
            ],
            "text/html": [
              "\n",
              "  <div id=\"df-096595bb-21e6-4c0f-af40-14d40d9c152d\">\n",
              "    <div class=\"colab-df-container\">\n",
              "      <div>\n",
              "<style scoped>\n",
              "    .dataframe tbody tr th:only-of-type {\n",
              "        vertical-align: middle;\n",
              "    }\n",
              "\n",
              "    .dataframe tbody tr th {\n",
              "        vertical-align: top;\n",
              "    }\n",
              "\n",
              "    .dataframe thead th {\n",
              "        text-align: right;\n",
              "    }\n",
              "</style>\n",
              "<table border=\"1\" class=\"dataframe\">\n",
              "  <thead>\n",
              "    <tr style=\"text-align: right;\">\n",
              "      <th></th>\n",
              "      <th>CustomerID</th>\n",
              "      <th>Gender</th>\n",
              "      <th>Age</th>\n",
              "      <th>Annual Income (k$)</th>\n",
              "      <th>Spending Score (1-100)</th>\n",
              "    </tr>\n",
              "  </thead>\n",
              "  <tbody>\n",
              "    <tr>\n",
              "      <th>0</th>\n",
              "      <td>1</td>\n",
              "      <td>Male</td>\n",
              "      <td>19</td>\n",
              "      <td>15</td>\n",
              "      <td>39</td>\n",
              "    </tr>\n",
              "    <tr>\n",
              "      <th>1</th>\n",
              "      <td>2</td>\n",
              "      <td>Male</td>\n",
              "      <td>21</td>\n",
              "      <td>15</td>\n",
              "      <td>81</td>\n",
              "    </tr>\n",
              "    <tr>\n",
              "      <th>2</th>\n",
              "      <td>3</td>\n",
              "      <td>Female</td>\n",
              "      <td>20</td>\n",
              "      <td>16</td>\n",
              "      <td>6</td>\n",
              "    </tr>\n",
              "    <tr>\n",
              "      <th>3</th>\n",
              "      <td>4</td>\n",
              "      <td>Female</td>\n",
              "      <td>23</td>\n",
              "      <td>16</td>\n",
              "      <td>77</td>\n",
              "    </tr>\n",
              "    <tr>\n",
              "      <th>4</th>\n",
              "      <td>5</td>\n",
              "      <td>Female</td>\n",
              "      <td>31</td>\n",
              "      <td>17</td>\n",
              "      <td>40</td>\n",
              "    </tr>\n",
              "    <tr>\n",
              "      <th>5</th>\n",
              "      <td>6</td>\n",
              "      <td>Female</td>\n",
              "      <td>22</td>\n",
              "      <td>17</td>\n",
              "      <td>76</td>\n",
              "    </tr>\n",
              "    <tr>\n",
              "      <th>6</th>\n",
              "      <td>7</td>\n",
              "      <td>Female</td>\n",
              "      <td>35</td>\n",
              "      <td>18</td>\n",
              "      <td>6</td>\n",
              "    </tr>\n",
              "    <tr>\n",
              "      <th>7</th>\n",
              "      <td>8</td>\n",
              "      <td>Female</td>\n",
              "      <td>23</td>\n",
              "      <td>18</td>\n",
              "      <td>94</td>\n",
              "    </tr>\n",
              "    <tr>\n",
              "      <th>8</th>\n",
              "      <td>9</td>\n",
              "      <td>Male</td>\n",
              "      <td>64</td>\n",
              "      <td>19</td>\n",
              "      <td>3</td>\n",
              "    </tr>\n",
              "    <tr>\n",
              "      <th>9</th>\n",
              "      <td>10</td>\n",
              "      <td>Female</td>\n",
              "      <td>30</td>\n",
              "      <td>19</td>\n",
              "      <td>72</td>\n",
              "    </tr>\n",
              "  </tbody>\n",
              "</table>\n",
              "</div>\n",
              "      <button class=\"colab-df-convert\" onclick=\"convertToInteractive('df-096595bb-21e6-4c0f-af40-14d40d9c152d')\"\n",
              "              title=\"Convert this dataframe to an interactive table.\"\n",
              "              style=\"display:none;\">\n",
              "        \n",
              "  <svg xmlns=\"http://www.w3.org/2000/svg\" height=\"24px\"viewBox=\"0 0 24 24\"\n",
              "       width=\"24px\">\n",
              "    <path d=\"M0 0h24v24H0V0z\" fill=\"none\"/>\n",
              "    <path d=\"M18.56 5.44l.94 2.06.94-2.06 2.06-.94-2.06-.94-.94-2.06-.94 2.06-2.06.94zm-11 1L8.5 8.5l.94-2.06 2.06-.94-2.06-.94L8.5 2.5l-.94 2.06-2.06.94zm10 10l.94 2.06.94-2.06 2.06-.94-2.06-.94-.94-2.06-.94 2.06-2.06.94z\"/><path d=\"M17.41 7.96l-1.37-1.37c-.4-.4-.92-.59-1.43-.59-.52 0-1.04.2-1.43.59L10.3 9.45l-7.72 7.72c-.78.78-.78 2.05 0 2.83L4 21.41c.39.39.9.59 1.41.59.51 0 1.02-.2 1.41-.59l7.78-7.78 2.81-2.81c.8-.78.8-2.07 0-2.86zM5.41 20L4 18.59l7.72-7.72 1.47 1.35L5.41 20z\"/>\n",
              "  </svg>\n",
              "      </button>\n",
              "      \n",
              "  <style>\n",
              "    .colab-df-container {\n",
              "      display:flex;\n",
              "      flex-wrap:wrap;\n",
              "      gap: 12px;\n",
              "    }\n",
              "\n",
              "    .colab-df-convert {\n",
              "      background-color: #E8F0FE;\n",
              "      border: none;\n",
              "      border-radius: 50%;\n",
              "      cursor: pointer;\n",
              "      display: none;\n",
              "      fill: #1967D2;\n",
              "      height: 32px;\n",
              "      padding: 0 0 0 0;\n",
              "      width: 32px;\n",
              "    }\n",
              "\n",
              "    .colab-df-convert:hover {\n",
              "      background-color: #E2EBFA;\n",
              "      box-shadow: 0px 1px 2px rgba(60, 64, 67, 0.3), 0px 1px 3px 1px rgba(60, 64, 67, 0.15);\n",
              "      fill: #174EA6;\n",
              "    }\n",
              "\n",
              "    [theme=dark] .colab-df-convert {\n",
              "      background-color: #3B4455;\n",
              "      fill: #D2E3FC;\n",
              "    }\n",
              "\n",
              "    [theme=dark] .colab-df-convert:hover {\n",
              "      background-color: #434B5C;\n",
              "      box-shadow: 0px 1px 3px 1px rgba(0, 0, 0, 0.15);\n",
              "      filter: drop-shadow(0px 1px 2px rgba(0, 0, 0, 0.3));\n",
              "      fill: #FFFFFF;\n",
              "    }\n",
              "  </style>\n",
              "\n",
              "      <script>\n",
              "        const buttonEl =\n",
              "          document.querySelector('#df-096595bb-21e6-4c0f-af40-14d40d9c152d button.colab-df-convert');\n",
              "        buttonEl.style.display =\n",
              "          google.colab.kernel.accessAllowed ? 'block' : 'none';\n",
              "\n",
              "        async function convertToInteractive(key) {\n",
              "          const element = document.querySelector('#df-096595bb-21e6-4c0f-af40-14d40d9c152d');\n",
              "          const dataTable =\n",
              "            await google.colab.kernel.invokeFunction('convertToInteractive',\n",
              "                                                     [key], {});\n",
              "          if (!dataTable) return;\n",
              "\n",
              "          const docLinkHtml = 'Like what you see? Visit the ' +\n",
              "            '<a target=\"_blank\" href=https://colab.research.google.com/notebooks/data_table.ipynb>data table notebook</a>'\n",
              "            + ' to learn more about interactive tables.';\n",
              "          element.innerHTML = '';\n",
              "          dataTable['output_type'] = 'display_data';\n",
              "          await google.colab.output.renderOutput(dataTable, element);\n",
              "          const docLink = document.createElement('div');\n",
              "          docLink.innerHTML = docLinkHtml;\n",
              "          element.appendChild(docLink);\n",
              "        }\n",
              "      </script>\n",
              "    </div>\n",
              "  </div>\n",
              "  "
            ]
          },
          "metadata": {},
          "execution_count": 2
        }
      ]
    },
    {
      "cell_type": "markdown",
      "source": [
        "3.PERFORMING DATA VISUALIZATION"
      ],
      "metadata": {
        "id": "2HBQs6lK---5"
      }
    },
    {
      "cell_type": "markdown",
      "source": [
        "(i)UNIVARIATE ANALYSIS"
      ],
      "metadata": {
        "id": "bcZ4OR5B_Fa-"
      }
    },
    {
      "cell_type": "code",
      "source": [
        "import seaborn as sns\n",
        "import warnings\n",
        "warnings.filterwarnings(\"ignore\")\n",
        "sns.distplot(df['Spending Score (1-100)'])"
      ],
      "metadata": {
        "colab": {
          "base_uri": "https://localhost:8080/",
          "height": 301
        },
        "id": "EWKWgY0A_K34",
        "outputId": "681c0600-eddd-4346-aeff-97798e5e6f82"
      },
      "execution_count": 4,
      "outputs": [
        {
          "output_type": "execute_result",
          "data": {
            "text/plain": [
              "<matplotlib.axes._subplots.AxesSubplot at 0x7f8cf72108d0>"
            ]
          },
          "metadata": {},
          "execution_count": 4
        },
        {
          "output_type": "display_data",
          "data": {
            "text/plain": [
              "<Figure size 432x288 with 1 Axes>"
            ],
            "image/png": "[encoded data removed]"
          },
          "metadata": {
            "needs_background": "light"
          }
        }
      ]
    },
    {
      "cell_type": "markdown",
      "source": [
        "(ii)BIVARIATE ANALYSIS"
      ],
      "metadata": {
        "id": "e4WphxIQAQzW"
      }
    },
    {
      "cell_type": "code",
      "source": [
        "import matplotlib.pyplot as plt\n",
        "sns.heatmap(df.corr(),annot=True)\n",
        "plt.show()"
      ],
      "metadata": {
        "colab": {
          "base_uri": "https://localhost:8080/",
          "height": 377
        },
        "id": "fJLBSJD9AWNg",
        "outputId": "38141734-a91e-4538-e4e9-1d804c7bc874"
      },
      "execution_count": 5,
      "outputs": [
        {
          "output_type": "display_data",
          "data": {
            "text/plain": [
              "<Figure size 432x288 with 2 Axes>"
            ],
            "image/png": "[encoded data removed]"
          },
          "metadata": {
            "needs_background": "light"
          }
        }
      ]
    },
    {
      "cell_type": "markdown",
      "source": [
        "(iii)MULTIVARIATE ANALYSIS"
      ],
      "metadata": {
        "id": "GXToHC4cB8rk"
      }
    },
    {
      "cell_type": "code",
      "source": [
        "sns.pairplot(df)\n",
        "plt.show()"
      ],
      "metadata": {
        "colab": {
          "base_uri": "https://localhost:8080/",
          "height": 726
        },
        "id": "S64be38hCCyk",
        "outputId": "7f5ce979-4853-4a84-c79f-3d7cf3eb6077"
      },
      "execution_count": 6,
      "outputs": [
        {
          "output_type": "display_data",
          "data": {
            "text/plain": [
              "<Figure size 720x720 with 20 Axes>"
            ],
            "image/png": "[encoded data removed]"
          },
          "metadata": {
            "needs_background": "light"
          }
        }
      ]
    },
    {
      "cell_type": "markdown",
      "source": [
        "4.PERFORMING DESCRIPTIVE STATISTICS ON THE DATASET"
      ],
      "metadata": {
        "id": "qIImnUhjCRQ3"
      }
    },
    {
      "cell_type": "code",
      "source": [
        "df.describe()"
      ],
      "metadata": {
        "colab": {
          "base_uri": "https://localhost:8080/",
          "height": 300
        },
        "id": "J_swi0AgC4A0",
        "outputId": "ee31ee44-d797-4dc7-a53e-20e899ec7e36"
      },
      "execution_count": 7,
      "outputs": [
        {
          "output_type": "execute_result",
          "data": {
            "text/plain": [
              "       CustomerID         Age  Annual Income (k$)  Spending Score (1-100)\n",
              "count  200.000000  200.000000          200.000000              200.000000\n",
              "mean   100.500000   38.850000           60.560000               50.200000\n",
              "std     57.879185   13.969007           26.264721               25.823522\n",
              "min      1.000000   18.000000           15.000000                1.000000\n",
              "25%     50.750000   28.750000           41.500000               34.750000\n",
              "50%    100.500000   36.000000           61.500000               50.000000\n",
              "75%    150.250000   49.000000           78.000000               73.000000\n",
              "max    200.000000   70.000000          137.000000               99.000000"
            ],
            "text/html": [
              "\n",
              "  <div id=\"df-6cd50074-e361-4831-91ef-5823b7649567\">\n",
              "    <div class=\"colab-df-container\">\n",
              "      <div>\n",
              "<style scoped>\n",
              "    .dataframe tbody tr th:only-of-type {\n",
              "        vertical-align: middle;\n",
              "    }\n",
              "\n",
              "    .dataframe tbody tr th {\n",
              "        vertical-align: top;\n",
              "    }\n",
              "\n",
              "    .dataframe thead th {\n",
              "        text-align: right;\n",
              "    }\n",
              "</style>\n",
              "<table border=\"1\" class=\"dataframe\">\n",
              "  <thead>\n",
              "    <tr style=\"text-align: right;\">\n",
              "      <th></th>\n",
              "      <th>CustomerID</th>\n",
              "      <th>Age</th>\n",
              "      <th>Annual Income (k$)</th>\n",
              "      <th>Spending Score (1-100)</th>\n",
              "    </tr>\n",
              "  </thead>\n",
              "  <tbody>\n",
              "    <tr>\n",
              "      <th>count</th>\n",
              "      <td>200.000000</td>\n",
              "      <td>200.000000</td>\n",
              "      <td>200.000000</td>\n",
              "      <td>200.000000</td>\n",
              "    </tr>\n",
              "    <tr>\n",
              "      <th>mean</th>\n",
              "      <td>100.500000</td>\n",
              "      <td>38.850000</td>\n",
              "      <td>60.560000</td>\n",
              "      <td>50.200000</td>\n",
              "    </tr>\n",
              "    <tr>\n",
              "      <th>std</th>\n",
              "      <td>57.879185</td>\n",
              "      <td>13.969007</td>\n",
              "      <td>26.264721</td>\n",
              "      <td>25.823522</td>\n",
              "    </tr>\n",
              "    <tr>\n",
              "      <th>min</th>\n",
              "      <td>1.000000</td>\n",
              "      <td>18.000000</td>\n",
              "      <td>15.000000</td>\n",
              "      <td>1.000000</td>\n",
              "    </tr>\n",
              "    <tr>\n",
              "      <th>25%</th>\n",
              "      <td>50.750000</td>\n",
              "      <td>28.750000</td>\n",
              "      <td>41.500000</td>\n",
              "      <td>34.750000</td>\n",
              "    </tr>\n",
              "    <tr>\n",
              "      <th>50%</th>\n",
              "      <td>100.500000</td>\n",
              "      <td>36.000000</td>\n",
              "      <td>61.500000</td>\n",
              "      <td>50.000000</td>\n",
              "    </tr>\n",
              "    <tr>\n",
              "      <th>75%</th>\n",
              "      <td>150.250000</td>\n",
              "      <td>49.000000</td>\n",
              "      <td>78.000000</td>\n",
              "      <td>73.000000</td>\n",
              "    </tr>\n",
              "    <tr>\n",
              "      <th>max</th>\n",
              "      <td>200.000000</td>\n",
              "      <td>70.000000</td>\n",
              "      <td>137.000000</td>\n",
              "      <td>99.000000</td>\n",
              "    </tr>\n",
              "  </tbody>\n",
              "</table>\n",
              "</div>\n",
              "      <button class=\"colab-df-convert\" onclick=\"convertToInteractive('df-6cd50074-e361-4831-91ef-5823b7649567')\"\n",
              "              title=\"Convert this dataframe to an interactive table.\"\n",
              "              style=\"display:none;\">\n",
              "        \n",
              "  <svg xmlns=\"http://www.w3.org/2000/svg\" height=\"24px\"viewBox=\"0 0 24 24\"\n",
              "       width=\"24px\">\n",
              "    <path d=\"M0 0h24v24H0V0z\" fill=\"none\"/>\n",
              "    <path d=\"M18.56 5.44l.94 2.06.94-2.06 2.06-.94-2.06-.94-.94-2.06-.94 2.06-2.06.94zm-11 1L8.5 8.5l.94-2.06 2.06-.94-2.06-.94L8.5 2.5l-.94 2.06-2.06.94zm10 10l.94 2.06.94-2.06 2.06-.94-2.06-.94-.94-2.06-.94 2.06-2.06.94z\"/><path d=\"M17.41 7.96l-1.37-1.37c-.4-.4-.92-.59-1.43-.59-.52 0-1.04.2-1.43.59L10.3 9.45l-7.72 7.72c-.78.78-.78 2.05 0 2.83L4 21.41c.39.39.9.59 1.41.59.51 0 1.02-.2 1.41-.59l7.78-7.78 2.81-2.81c.8-.78.8-2.07 0-2.86zM5.41 20L4 18.59l7.72-7.72 1.47 1.35L5.41 20z\"/>\n",
              "  </svg>\n",
              "      </button>\n",
              "      \n",
              "  <style>\n",
              "    .colab-df-container {\n",
              "      display:flex;\n",
              "      flex-wrap:wrap;\n",
              "      gap: 12px;\n",
              "    }\n",
              "\n",
              "    .colab-df-convert {\n",
              "      background-color: #E8F0FE;\n",
              "      border: none;\n",
              "      border-radius: 50%;\n",
              "      cursor: pointer;\n",
              "      display: none;\n",
              "      fill: #1967D2;\n",
              "      height: 32px;\n",
              "      padding: 0 0 0 0;\n",
              "      width: 32px;\n",
              "    }\n",
              "\n",
              "    .colab-df-convert:hover {\n",
              "      background-color: #E2EBFA;\n",
              "      box-shadow: 0px 1px 2px rgba(60, 64, 67, 0.3), 0px 1px 3px 1px rgba(60, 64, 67, 0.15);\n",
              "      fill: #174EA6;\n",
              "    }\n",
              "\n",
              "    [theme=dark] .colab-df-convert {\n",
              "      background-color: #3B4455;\n",
              "      fill: #D2E3FC;\n",
              "    }\n",
              "\n",
              "    [theme=dark] .colab-df-convert:hover {\n",
              "      background-color: #434B5C;\n",
              "      box-shadow: 0px 1px 3px 1px rgba(0, 0, 0, 0.15);\n",
              "      filter: drop-shadow(0px 1px 2px rgba(0, 0, 0, 0.3));\n",
              "      fill: #FFFFFF;\n",
              "    }\n",
              "  </style>\n",
              "\n",
              "      <script>\n",
              "        const buttonEl =\n",
              "          document.querySelector('#df-6cd50074-e361-4831-91ef-5823b7649567 button.colab-df-convert');\n",
              "        buttonEl.style.display =\n",
              "          google.colab.kernel.accessAllowed ? 'block' : 'none';\n",
              "\n",
              "        async function convertToInteractive(key) {\n",
              "          const element = document.querySelector('#df-6cd50074-e361-4831-91ef-5823b7649567');\n",
              "          const dataTable =\n",
              "            await google.colab.kernel.invokeFunction('convertToInteractive',\n",
              "                                                     [key], {});\n",
              "          if (!dataTable) return;\n",
              "\n",
              "          const docLinkHtml = 'Like what you see? Visit the ' +\n",
              "            '<a target=\"_blank\" href=https://colab.research.google.com/notebooks/data_table.ipynb>data table notebook</a>'\n",
              "            + ' to learn more about interactive tables.';\n",
              "          element.innerHTML = '';\n",
              "          dataTable['output_type'] = 'display_data';\n",
              "          await google.colab.output.renderOutput(dataTable, element);\n",
              "          const docLink = document.createElement('div');\n",
              "          docLink.innerHTML = docLinkHtml;\n",
              "          element.appendChild(docLink);\n",
              "        }\n",
              "      </script>\n",
              "    </div>\n",
              "  </div>\n",
              "  "
            ]
          },
          "metadata": {},
          "execution_count": 7
        }
      ]
    },
    {
      "cell_type": "markdown",
      "source": [
        "5.CHECKING FOR MISSING VALUES AND DEALING WITH THEM"
      ],
      "metadata": {
        "id": "acMdItZQDKHE"
      }
    },
    {
      "cell_type": "code",
      "source": [
        "df.isnull()"
      ],
      "metadata": {
        "colab": {
          "base_uri": "https://localhost:8080/",
          "height": 424
        },
        "id": "lkPu3Xd-DTzn",
        "outputId": "65b05784-c8b9-4f92-d04b-dad5e714bf89"
      },
      "execution_count": 8,
      "outputs": [
        {
          "output_type": "execute_result",
          "data": {
            "text/plain": [
              "     CustomerID  Gender    Age  Annual Income (k$)  Spending Score (1-100)\n",
              "0         False   False  False               False                   False\n",
              "1         False   False  False               False                   False\n",
              "2         False   False  False               False                   False\n",
              "3         False   False  False               False                   False\n",
              "4         False   False  False               False                   False\n",
              "..          ...     ...    ...                 ...                     ...\n",
              "195       False   False  False               False                   False\n",
              "196       False   False  False               False                   False\n",
              "197       False   False  False               False                   False\n",
              "198       False   False  False               False                   False\n",
              "199       False   False  False               False                   False\n",
              "\n",
              "[200 rows x 5 columns]"
            ],
            "text/html": [
              "\n",
              "  <div id=\"df-fe862ff7-dad6-4ca4-9e89-3367d7f90408\">\n",
              "    <div class=\"colab-df-container\">\n",
              "      <div>\n",
              "<style scoped>\n",
              "    .dataframe tbody tr th:only-of-type {\n",
              "        vertical-align: middle;\n",
              "    }\n",
              "\n",
              "    .dataframe tbody tr th {\n",
              "        vertical-align: top;\n",
              "    }\n",
              "\n",
              "    .dataframe thead th {\n",
              "        text-align: right;\n",
              "    }\n",
              "</style>\n",
              "<table border=\"1\" class=\"dataframe\">\n",
              "  <thead>\n",
              "    <tr style=\"text-align: right;\">\n",
              "      <th></th>\n",
              "      <th>CustomerID</th>\n",
              "      <th>Gender</th>\n",
              "      <th>Age</th>\n",
              "      <th>Annual Income (k$)</th>\n",
              "      <th>Spending Score (1-100)</th>\n",
              "    </tr>\n",
              "  </thead>\n",
              "  <tbody>\n",
              "    <tr>\n",
              "      <th>0</th>\n",
              "      <td>False</td>\n",
              "      <td>False</td>\n",
              "      <td>False</td>\n",
              "      <td>False</td>\n",
              "      <td>False</td>\n",
              "    </tr>\n",
              "    <tr>\n",
              "      <th>1</th>\n",
              "      <td>False</td>\n",
              "      <td>False</td>\n",
              "      <td>False</td>\n",
              "      <td>False</td>\n",
              "      <td>False</td>\n",
              "    </tr>\n",
              "    <tr>\n",
              "      <th>2</th>\n",
              "      <td>False</td>\n",
              "      <td>False</td>\n",
              "      <td>False</td>\n",
              "      <td>False</td>\n",
              "      <td>False</td>\n",
              "    </tr>\n",
              "    <tr>\n",
              "      <th>3</th>\n",
              "      <td>False</td>\n",
              "      <td>False</td>\n",
              "      <td>False</td>\n",
              "      <td>False</td>\n",
              "      <td>False</td>\n",
              "    </tr>\n",
              "    <tr>\n",
              "      <th>4</th>\n",
              "      <td>False</td>\n",
              "      <td>False</td>\n",
              "      <td>False</td>\n",
              "      <td>False</td>\n",
              "      <td>False</td>\n",
              "    </tr>\n",
              "    <tr>\n",
              "      <th>...</th>\n",
              "      <td>...</td>\n",
              "      <td>...</td>\n",
              "      <td>...</td>\n",
              "      <td>...</td>\n",
              "      <td>...</td>\n",
              "    </tr>\n",
              "    <tr>\n",
              "      <th>195</th>\n",
              "      <td>False</td>\n",
              "      <td>False</td>\n",
              "      <td>False</td>\n",
              "      <td>False</td>\n",
              "      <td>False</td>\n",
              "    </tr>\n",
              "    <tr>\n",
              "      <th>196</th>\n",
              "      <td>False</td>\n",
              "      <td>False</td>\n",
              "      <td>False</td>\n",
              "      <td>False</td>\n",
              "      <td>False</td>\n",
              "    </tr>\n",
              "    <tr>\n",
              "      <th>197</th>\n",
              "      <td>False</td>\n",
              "      <td>False</td>\n",
              "      <td>False</td>\n",
              "      <td>False</td>\n",
              "      <td>False</td>\n",
              "    </tr>\n",
              "    <tr>\n",
              "      <th>198</th>\n",
              "      <td>False</td>\n",
              "      <td>False</td>\n",
              "      <td>False</td>\n",
              "      <td>False</td>\n",
              "      <td>False</td>\n",
              "    </tr>\n",
              "    <tr>\n",
              "      <th>199</th>\n",
              "      <td>False</td>\n",
              "      <td>False</td>\n",
              "      <td>False</td>\n",
              "      <td>False</td>\n",
              "      <td>False</td>\n",
              "    </tr>\n",
              "  </tbody>\n",
              "</table>\n",
              "<p>200 rows × 5 columns</p>\n",
              "</div>\n",
              "      <button class=\"colab-df-convert\" onclick=\"convertToInteractive('df-fe862ff7-dad6-4ca4-9e89-3367d7f90408')\"\n",
              "              title=\"Convert this dataframe to an interactive table.\"\n",
              "              style=\"display:none;\">\n",
              "        \n",
              "  <svg xmlns=\"http://www.w3.org/2000/svg\" height=\"24px\"viewBox=\"0 0 24 24\"\n",
              "       width=\"24px\">\n",
              "    <path d=\"M0 0h24v24H0V0z\" fill=\"none\"/>\n",
              "    <path d=\"M18.56 5.44l.94 2.06.94-2.06 2.06-.94-2.06-.94-.94-2.06-.94 2.06-2.06.94zm-11 1L8.5 8.5l.94-2.06 2.06-.94-2.06-.94L8.5 2.5l-.94 2.06-2.06.94zm10 10l.94 2.06.94-2.06 2.06-.94-2.06-.94-.94-2.06-.94 2.06-2.06.94z\"/><path d=\"M17.41 7.96l-1.37-1.37c-.4-.4-.92-.59-1.43-.59-.52 0-1.04.2-1.43.59L10.3 9.45l-7.72 7.72c-.78.78-.78 2.05 0 2.83L4 21.41c.39.39.9.59 1.41.59.51 0 1.02-.2 1.41-.59l7.78-7.78 2.81-2.81c.8-.78.8-2.07 0-2.86zM5.41 20L4 18.59l7.72-7.72 1.47 1.35L5.41 20z\"/>\n",
              "  </svg>\n",
              "      </button>\n",
              "      \n",
              "  <style>\n",
              "    .colab-df-container {\n",
              "      display:flex;\n",
              "      flex-wrap:wrap;\n",
              "      gap: 12px;\n",
              "    }\n",
              "\n",
              "    .colab-df-convert {\n",
              "      background-color: #E8F0FE;\n",
              "      border: none;\n",
              "      border-radius: 50%;\n",
              "      cursor: pointer;\n",
              "      display: none;\n",
              "      fill: #1967D2;\n",
              "      height: 32px;\n",
              "      padding: 0 0 0 0;\n",
              "      width: 32px;\n",
              "    }\n",
              "\n",
              "    .colab-df-convert:hover {\n",
              "      background-color: #E2EBFA;\n",
              "      box-shadow: 0px 1px 2px rgba(60, 64, 67, 0.3), 0px 1px 3px 1px rgba(60, 64, 67, 0.15);\n",
              "      fill: #174EA6;\n",
              "    }\n",
              "\n",
              "    [theme=dark] .colab-df-convert {\n",
              "      background-color: #3B4455;\n",
              "      fill: #D2E3FC;\n",
              "    }\n",
              "\n",
              "    [theme=dark] .colab-df-convert:hover {\n",
              "      background-color: #434B5C;\n",
              "      box-shadow: 0px 1px 3px 1px rgba(0, 0, 0, 0.15);\n",
              "      filter: drop-shadow(0px 1px 2px rgba(0, 0, 0, 0.3));\n",
              "      fill: #FFFFFF;\n",
              "    }\n",
              "  </style>\n",
              "\n",
              "      <script>\n",
              "        const buttonEl =\n",
              "          document.querySelector('#df-fe862ff7-dad6-4ca4-9e89-3367d7f90408 button.colab-df-convert');\n",
              "        buttonEl.style.display =\n",
              "          google.colab.kernel.accessAllowed ? 'block' : 'none';\n",
              "\n",
              "        async function convertToInteractive(key) {\n",
              "          const element = document.querySelector('#df-fe862ff7-dad6-4ca4-9e89-3367d7f90408');\n",
              "          const dataTable =\n",
              "            await google.colab.kernel.invokeFunction('convertToInteractive',\n",
              "                                                     [key], {});\n",
              "          if (!dataTable) return;\n",
              "\n",
              "          const docLinkHtml = 'Like what you see? Visit the ' +\n",
              "            '<a target=\"_blank\" href=https://colab.research.google.com/notebooks/data_table.ipynb>data table notebook</a>'\n",
              "            + ' to learn more about interactive tables.';\n",
              "          element.innerHTML = '';\n",
              "          dataTable['output_type'] = 'display_data';\n",
              "          await google.colab.output.renderOutput(dataTable, element);\n",
              "          const docLink = document.createElement('div');\n",
              "          docLink.innerHTML = docLinkHtml;\n",
              "          element.appendChild(docLink);\n",
              "        }\n",
              "      </script>\n",
              "    </div>\n",
              "  </div>\n",
              "  "
            ]
          },
          "metadata": {},
          "execution_count": 8
        }
      ]
    },
    {
      "cell_type": "code",
      "source": [
        "df.isnull().sum()"
      ],
      "metadata": {
        "colab": {
          "base_uri": "https://localhost:8080/"
        },
        "id": "ltRC_KRDDgzq",
        "outputId": "eca417d1-3899-4274-ffbd-82cbef06822a"
      },
      "execution_count": 9,
      "outputs": [
        {
          "output_type": "execute_result",
          "data": {
            "text/plain": [
              "CustomerID                0\n",
              "Gender                    0\n",
              "Age                       0\n",
              "Annual Income (k$)        0\n",
              "Spending Score (1-100)    0\n",
              "dtype: int64"
            ]
          },
          "metadata": {},
          "execution_count": 9
        }
      ]
    },
    {
      "cell_type": "markdown",
      "source": [
        "6.FINDING THE OUTLIERS AND REPLACING THEM"
      ],
      "metadata": {
        "id": "kFOCZicIDo91"
      }
    },
    {
      "cell_type": "code",
      "source": [
        "sns.boxplot(x='Age',data=df)"
      ],
      "metadata": {
        "colab": {
          "base_uri": "https://localhost:8080/",
          "height": 297
        },
        "id": "DCmeikIYDxfM",
        "outputId": "a9c7a491-0176-4547-c504-be21ec7219a0"
      },
      "execution_count": 10,
      "outputs": [
        {
          "output_type": "execute_result",
          "data": {
            "text/plain": [
              "<matplotlib.axes._subplots.AxesSubplot at 0x7f8cead8f590>"
            ]
          },
          "metadata": {},
          "execution_count": 10
        },
        {
          "output_type": "display_data",
          "data": {
            "text/plain": [
              "<Figure size 432x288 with 1 Axes>"
            ],
            "image/png": "[encoded data removed]"
          },
          "metadata": {
            "needs_background": "light"
          }
        }
      ]
    },
    {
      "cell_type": "code",
      "source": [
        "Q1=df.Age.quantile(0.25)\n",
        "Q2=df.Age.quantile(0.30)\n",
        "IQR=Q2-Q1\n",
        "print(IQR)"
      ],
      "metadata": {
        "colab": {
          "base_uri": "https://localhost:8080/"
        },
        "id": "U-RfR3KCH7OJ",
        "outputId": "49c66d79-8bc7-4936-f8c6-b6f9a59e1a51"
      },
      "execution_count": null,
      "outputs": [
        {
          "output_type": "stream",
          "name": "stdout",
          "text": [
            "1.25\n"
          ]
        }
      ]
    },
    {
      "cell_type": "code",
      "source": [
        "A=df[~((df.Age<(Q1-2.50*IQR))|(df.Age>(Q2+2.50*IQR)))]\n",
        "print(A)"
      ],
      "metadata": {
        "colab": {
          "base_uri": "https://localhost:8080/"
        },
        "id": "SQZv7z74InMc",
        "outputId": "96cf6eda-0543-4a3c-8733-08f4d3864e74"
      },
      "execution_count": null,
      "outputs": [
        {
          "output_type": "stream",
          "name": "stdout",
          "text": [
            "     CustomerID  Gender  Age  Annual Income (k$)  Spending Score (1-100)\n",
            "4             5  Female   31                  17                      40\n",
            "9            10  Female   30                  19                      72\n",
            "23           24    Male   31                  25                      73\n",
            "25           26    Male   29                  28                      82\n",
            "37           38  Female   30                  34                      73\n",
            "43           44  Female   31                  39                      61\n",
            "47           48  Female   27                  40                      47\n",
            "48           49  Female   29                  40                      42\n",
            "49           50  Female   31                  40                      42\n",
            "51           52    Male   33                  42                      60\n",
            "52           53  Female   31                  43                      54\n",
            "58           59  Female   27                  46                      51\n",
            "69           70  Female   32                  48                      47\n",
            "75           76    Male   26                  54                      54\n",
            "94           95  Female   32                  60                      42\n",
            "97           98  Female   27                  60                      50\n",
            "103         104    Male   26                  62                      55\n",
            "120         121    Male   27                  67                      56\n",
            "125         126  Female   31                  70                      77\n",
            "133         134  Female   31                  72                      71\n",
            "135         136  Female   29                  73                      88\n",
            "137         138    Male   32                  73                      73\n",
            "141         142    Male   32                  75                      93\n",
            "142         143  Female   28                  76                      40\n",
            "143         144  Female   32                  76                      87\n",
            "145         146    Male   28                  77                      97\n",
            "147         148  Female   32                  77                      74\n",
            "155         156  Female   27                  78                      89\n",
            "157         158  Female   30                  78                      78\n",
            "159         160  Female   30                  78                      73\n",
            "161         162  Female   29                  79                      83\n",
            "163         164  Female   31                  81                      93\n",
            "167         168  Female   33                  86                      95\n",
            "169         170    Male   32                  87                      63\n",
            "171         172    Male   28                  87                      75\n",
            "175         176  Female   30                  88                      86\n",
            "177         178    Male   27                  88                      69\n",
            "181         182  Female   32                  97                      86\n",
            "183         184  Female   29                  98                      88\n",
            "185         186    Male   30                  99                      97\n",
            "187         188    Male   28                 101                      68\n",
            "191         192  Female   32                 103                      69\n",
            "192         193    Male   33                 113                       8\n",
            "197         198    Male   32                 126                      74\n",
            "198         199    Male   32                 137                      18\n",
            "199         200    Male   30                 137                      83\n"
          ]
        }
      ]
    },
    {
      "cell_type": "markdown",
      "source": [
        "7.CHECKING FOR CATEGORICAL COLUMNS AND PERFORMING ENCODING"
      ],
      "metadata": {
        "id": "KQ-jyA4xGNHQ"
      }
    },
    {
      "cell_type": "code",
      "source": [
        "sns.countplot(x='Gender', data=df, palette=\"dark\")"
      ],
      "metadata": {
        "colab": {
          "base_uri": "https://localhost:8080/",
          "height": 297
        },
        "id": "TOIm4rt3S3qM",
        "outputId": "cf794eda-8e07-43e8-8dd7-8d9f4cf16a78"
      },
      "execution_count": 14,
      "outputs": [
        {
          "output_type": "execute_result",
          "data": {
            "text/plain": [
              "<matplotlib.axes._subplots.AxesSubplot at 0x7f8ce600c3d0>"
            ]
          },
          "metadata": {},
          "execution_count": 14
        },
        {
          "output_type": "display_data",
          "data": {
            "text/plain": [
              "<Figure size 432x288 with 1 Axes>"
            ],
            "image/png": "[encoded data removed]"
          },
          "metadata": {
            "needs_background": "light"
          }
        }
      ]
    },
    {
      "cell_type": "markdown",
      "source": [
        "8.SCALING THE DATA"
      ],
      "metadata": {
        "id": "KPSbqDFuRL7q"
      }
    },
    {
      "cell_type": "code",
      "source": [
        "from sklearn import linear_model\n",
        "from sklearn.preprocessing import StandardScaler\n",
        "scale=StandardScaler()\n",
        "x=df[['Annual Income (k$)','Spending Score (1-100)']]\n",
        "scaledx=scale.fit_transform(x)\n",
        "print(scaledx)"
      ],
      "metadata": {
        "colab": {
          "base_uri": "https://localhost:8080/"
        },
        "id": "JYzZCCeORRrw",
        "outputId": "92d9a0ac-0053-48ac-f646-e59e5a64f8f9"
      },
      "execution_count": null,
      "outputs": [
        {
          "output_type": "stream",
          "name": "stdout",
          "text": [
            "[[-1.73899919 -0.43480148]\n",
            " [-1.73899919  1.19570407]\n",
            " [-1.70082976 -1.71591298]\n",
            " [-1.70082976  1.04041783]\n",
            " [-1.66266033 -0.39597992]\n",
            " [-1.66266033  1.00159627]\n",
            " [-1.62449091 -1.71591298]\n",
            " [-1.62449091  1.70038436]\n",
            " [-1.58632148 -1.83237767]\n",
            " [-1.58632148  0.84631002]\n",
            " [-1.58632148 -1.4053405 ]\n",
            " [-1.58632148  1.89449216]\n",
            " [-1.54815205 -1.36651894]\n",
            " [-1.54815205  1.04041783]\n",
            " [-1.54815205 -1.44416206]\n",
            " [-1.54815205  1.11806095]\n",
            " [-1.50998262 -0.59008772]\n",
            " [-1.50998262  0.61338066]\n",
            " [-1.43364376 -0.82301709]\n",
            " [-1.43364376  1.8556706 ]\n",
            " [-1.39547433 -0.59008772]\n",
            " [-1.39547433  0.88513158]\n",
            " [-1.3573049  -1.75473454]\n",
            " [-1.3573049   0.88513158]\n",
            " [-1.24279661 -1.4053405 ]\n",
            " [-1.24279661  1.23452563]\n",
            " [-1.24279661 -0.7065524 ]\n",
            " [-1.24279661  0.41927286]\n",
            " [-1.20462718 -0.74537397]\n",
            " [-1.20462718  1.42863343]\n",
            " [-1.16645776 -1.7935561 ]\n",
            " [-1.16645776  0.88513158]\n",
            " [-1.05194947 -1.7935561 ]\n",
            " [-1.05194947  1.62274124]\n",
            " [-1.05194947 -1.4053405 ]\n",
            " [-1.05194947  1.19570407]\n",
            " [-1.01378004 -1.28887582]\n",
            " [-1.01378004  0.88513158]\n",
            " [-0.89927175 -0.93948177]\n",
            " [-0.89927175  0.96277471]\n",
            " [-0.86110232 -0.59008772]\n",
            " [-0.86110232  1.62274124]\n",
            " [-0.82293289 -0.55126616]\n",
            " [-0.82293289  0.41927286]\n",
            " [-0.82293289 -0.86183865]\n",
            " [-0.82293289  0.5745591 ]\n",
            " [-0.78476346  0.18634349]\n",
            " [-0.78476346 -0.12422899]\n",
            " [-0.78476346 -0.3183368 ]\n",
            " [-0.78476346 -0.3183368 ]\n",
            " [-0.70842461  0.06987881]\n",
            " [-0.70842461  0.38045129]\n",
            " [-0.67025518  0.14752193]\n",
            " [-0.67025518  0.38045129]\n",
            " [-0.67025518 -0.20187212]\n",
            " [-0.67025518 -0.35715836]\n",
            " [-0.63208575 -0.00776431]\n",
            " [-0.63208575 -0.16305055]\n",
            " [-0.55574689  0.03105725]\n",
            " [-0.55574689 -0.16305055]\n",
            " [-0.55574689  0.22516505]\n",
            " [-0.55574689  0.18634349]\n",
            " [-0.51757746  0.06987881]\n",
            " [-0.51757746  0.34162973]\n",
            " [-0.47940803  0.03105725]\n",
            " [-0.47940803  0.34162973]\n",
            " [-0.47940803 -0.00776431]\n",
            " [-0.47940803 -0.08540743]\n",
            " [-0.47940803  0.34162973]\n",
            " [-0.47940803 -0.12422899]\n",
            " [-0.4412386   0.18634349]\n",
            " [-0.4412386  -0.3183368 ]\n",
            " [-0.40306917 -0.04658587]\n",
            " [-0.40306917  0.22516505]\n",
            " [-0.25039146 -0.12422899]\n",
            " [-0.25039146  0.14752193]\n",
            " [-0.25039146  0.10870037]\n",
            " [-0.25039146 -0.08540743]\n",
            " [-0.25039146  0.06987881]\n",
            " [-0.25039146 -0.3183368 ]\n",
            " [-0.25039146  0.03105725]\n",
            " [-0.25039146  0.18634349]\n",
            " [-0.25039146 -0.35715836]\n",
            " [-0.25039146 -0.24069368]\n",
            " [-0.25039146  0.26398661]\n",
            " [-0.25039146 -0.16305055]\n",
            " [-0.13588317  0.30280817]\n",
            " [-0.13588317  0.18634349]\n",
            " [-0.09771374  0.38045129]\n",
            " [-0.09771374 -0.16305055]\n",
            " [-0.05954431  0.18634349]\n",
            " [-0.05954431 -0.35715836]\n",
            " [-0.02137488 -0.04658587]\n",
            " [-0.02137488 -0.39597992]\n",
            " [-0.02137488 -0.3183368 ]\n",
            " [-0.02137488  0.06987881]\n",
            " [-0.02137488 -0.12422899]\n",
            " [-0.02137488 -0.00776431]\n",
            " [ 0.01679455 -0.3183368 ]\n",
            " [ 0.01679455 -0.04658587]\n",
            " [ 0.05496398 -0.35715836]\n",
            " [ 0.05496398 -0.08540743]\n",
            " [ 0.05496398  0.34162973]\n",
            " [ 0.05496398  0.18634349]\n",
            " [ 0.05496398  0.22516505]\n",
            " [ 0.05496398 -0.3183368 ]\n",
            " [ 0.09313341 -0.00776431]\n",
            " [ 0.09313341 -0.16305055]\n",
            " [ 0.09313341 -0.27951524]\n",
            " [ 0.09313341 -0.08540743]\n",
            " [ 0.09313341  0.06987881]\n",
            " [ 0.09313341  0.14752193]\n",
            " [ 0.13130284 -0.3183368 ]\n",
            " [ 0.13130284 -0.16305055]\n",
            " [ 0.16947227 -0.08540743]\n",
            " [ 0.16947227 -0.00776431]\n",
            " [ 0.16947227 -0.27951524]\n",
            " [ 0.16947227  0.34162973]\n",
            " [ 0.24581112 -0.27951524]\n",
            " [ 0.24581112  0.26398661]\n",
            " [ 0.24581112  0.22516505]\n",
            " [ 0.24581112 -0.39597992]\n",
            " [ 0.32214998  0.30280817]\n",
            " [ 0.32214998  1.58391968]\n",
            " [ 0.36031941 -0.82301709]\n",
            " [ 0.36031941  1.04041783]\n",
            " [ 0.39848884 -0.59008772]\n",
            " [ 0.39848884  1.73920592]\n",
            " [ 0.39848884 -1.52180518]\n",
            " [ 0.39848884  0.96277471]\n",
            " [ 0.39848884 -1.5994483 ]\n",
            " [ 0.39848884  0.96277471]\n",
            " [ 0.43665827 -0.62890928]\n",
            " [ 0.43665827  0.80748846]\n",
            " [ 0.4748277  -1.75473454]\n",
            " [ 0.4748277   1.46745499]\n",
            " [ 0.4748277  -1.67709142]\n",
            " [ 0.4748277   0.88513158]\n",
            " [ 0.51299713 -1.56062674]\n",
            " [ 0.51299713  0.84631002]\n",
            " [ 0.55116656 -1.75473454]\n",
            " [ 0.55116656  1.6615628 ]\n",
            " [ 0.58933599 -0.39597992]\n",
            " [ 0.58933599  1.42863343]\n",
            " [ 0.62750542 -1.48298362]\n",
            " [ 0.62750542  1.81684904]\n",
            " [ 0.62750542 -0.55126616]\n",
            " [ 0.62750542  0.92395314]\n",
            " [ 0.66567484 -1.09476801]\n",
            " [ 0.66567484  1.54509812]\n",
            " [ 0.66567484 -1.28887582]\n",
            " [ 0.66567484  1.46745499]\n",
            " [ 0.66567484 -1.17241113]\n",
            " [ 0.66567484  1.00159627]\n",
            " [ 0.66567484 -1.32769738]\n",
            " [ 0.66567484  1.50627656]\n",
            " [ 0.66567484 -1.91002079]\n",
            " [ 0.66567484  1.07923939]\n",
            " [ 0.66567484 -1.91002079]\n",
            " [ 0.66567484  0.88513158]\n",
            " [ 0.70384427 -0.59008772]\n",
            " [ 0.70384427  1.27334719]\n",
            " [ 0.78018313 -1.75473454]\n",
            " [ 0.78018313  1.6615628 ]\n",
            " [ 0.93286085 -0.93948177]\n",
            " [ 0.93286085  0.96277471]\n",
            " [ 0.97103028 -1.17241113]\n",
            " [ 0.97103028  1.73920592]\n",
            " [ 1.00919971 -0.90066021]\n",
            " [ 1.00919971  0.49691598]\n",
            " [ 1.00919971 -1.44416206]\n",
            " [ 1.00919971  0.96277471]\n",
            " [ 1.00919971 -1.56062674]\n",
            " [ 1.00919971  1.62274124]\n",
            " [ 1.04736914 -1.44416206]\n",
            " [ 1.04736914  1.38981187]\n",
            " [ 1.04736914 -1.36651894]\n",
            " [ 1.04736914  0.72984534]\n",
            " [ 1.23821628 -1.4053405 ]\n",
            " [ 1.23821628  1.54509812]\n",
            " [ 1.390894   -0.7065524 ]\n",
            " [ 1.390894    1.38981187]\n",
            " [ 1.42906343 -1.36651894]\n",
            " [ 1.42906343  1.46745499]\n",
            " [ 1.46723286 -0.43480148]\n",
            " [ 1.46723286  1.81684904]\n",
            " [ 1.54357172 -1.01712489]\n",
            " [ 1.54357172  0.69102378]\n",
            " [ 1.61991057 -1.28887582]\n",
            " [ 1.61991057  1.35099031]\n",
            " [ 1.61991057 -1.05594645]\n",
            " [ 1.61991057  0.72984534]\n",
            " [ 2.00160487 -1.63826986]\n",
            " [ 2.00160487  1.58391968]\n",
            " [ 2.26879087 -1.32769738]\n",
            " [ 2.26879087  1.11806095]\n",
            " [ 2.49780745 -0.86183865]\n",
            " [ 2.49780745  0.92395314]\n",
            " [ 2.91767117 -1.25005425]\n",
            " [ 2.91767117  1.27334719]]\n"
          ]
        }
      ]
    },
    {
      "cell_type": "markdown",
      "source": [
        "9.PERFORMING CLUSTERING ALGORITHM"
      ],
      "metadata": {
        "id": "FSRGhFjTSYyQ"
      }
    },
    {
      "cell_type": "code",
      "source": [
        "data_mapped=df.copy()\n",
        "data_mapped['Gender']=data_mapped['Gender'].map({'Female':0,'Male':1})\n",
        "print(data_mapped)"
      ],
      "metadata": {
        "colab": {
          "base_uri": "https://localhost:8080/"
        },
        "id": "CxMu7pvEnudy",
        "outputId": "d3212c59-955b-4b81-be77-42847d0985e1"
      },
      "execution_count": null,
      "outputs": [
        {
          "output_type": "stream",
          "name": "stdout",
          "text": [
            "     CustomerID  Gender  Age  Annual Income (k$)  Spending Score (1-100)\n",
            "0             1       1   19                  15                      39\n",
            "1             2       1   21                  15                      81\n",
            "2             3       0   20                  16                       6\n",
            "3             4       0   23                  16                      77\n",
            "4             5       0   31                  17                      40\n",
            "..          ...     ...  ...                 ...                     ...\n",
            "195         196       0   35                 120                      79\n",
            "196         197       0   45                 126                      28\n",
            "197         198       1   32                 126                      74\n",
            "198         199       1   32                 137                      18\n",
            "199         200       1   30                 137                      83\n",
            "\n",
            "[200 rows x 5 columns]\n"
          ]
        }
      ]
    },
    {
      "cell_type": "code",
      "source": [
        "x=data_mapped.iloc[:,1:2]\n",
        "print(x)"
      ],
      "metadata": {
        "colab": {
          "base_uri": "https://localhost:8080/"
        },
        "id": "wz5A9mVlo0gW",
        "outputId": "eaf34bf4-c007-4611-950b-0d4418cb6430"
      },
      "execution_count": null,
      "outputs": [
        {
          "output_type": "stream",
          "name": "stdout",
          "text": [
            "     Gender\n",
            "0         1\n",
            "1         1\n",
            "2         0\n",
            "3         0\n",
            "4         0\n",
            "..      ...\n",
            "195       0\n",
            "196       0\n",
            "197       1\n",
            "198       1\n",
            "199       1\n",
            "\n",
            "[200 rows x 1 columns]\n"
          ]
        }
      ]
    },
    {
      "cell_type": "code",
      "source": [
        "kmeans=KMeans(1)\n",
        "kmeans.fit(x)\n",
        "identified_clusters=kmeans.fit_predict(x)\n",
        "data_with_clusters=data_mapped.copy()\n",
        "data_with_clusters['Cluster']=identified_clusters\n",
        "plt.scatter(data_with_clusters['Annual Income (k$)'],data_with_clusters['Spending Score (1-100)'],c=data_with_clusters['Cluster'],cmap='rainbow')\n",
        "plt.xlim(-180,180)\n",
        "plt.ylim(-90,90)\n",
        "plt.show()"
      ],
      "metadata": {
        "colab": {
          "base_uri": "https://localhost:8080/",
          "height": 265
        },
        "id": "KhSV4WkFpoDT",
        "outputId": "7a84d2a5-2cbf-47c0-e8b8-1cb24fee2f8f"
      },
      "execution_count": null,
      "outputs": [
        {
          "output_type": "display_data",
          "data": {
            "text/plain": [
              "<Figure size 432x288 with 1 Axes>"
            ],
            "image/png": "[encoded data removed]"
          },
          "metadata": {
            "needs_background": "light"
          }
        }
      ]
    },
    {
      "cell_type": "markdown",
      "source": [
        "10.ADDING THE CLUSTER DATA WITH THE PRIMARY DATASET"
      ],
      "metadata": {
        "id": "izSWn25crtlr"
      }
    },
    {
      "cell_type": "code",
      "source": [
        "from sklearn.cluster import KMeans\n",
        "\n",
        "wcss = []\n",
        "for i in range(1, 11):\n",
        "  km = KMeans(n_clusters = i, init = 'k-means++', max_iter = 300, n_init = 10, random_state = 0)\n",
        "  km.fit(x)\n",
        "  wcss.append(km.inertia_)\n",
        "  \n",
        "plt.plot(range(1, 11), wcss)\n",
        "plt.title('The Elbow Method')\n",
        "plt.xlabel('No. of Clusters')\n",
        "plt.ylabel('wcss')\n",
        "plt.show()"
      ],
      "metadata": {
        "colab": {
          "base_uri": "https://localhost:8080/",
          "height": 621
        },
        "id": "BKGwz8Qblwth",
        "outputId": "d6c224c2-4135-423f-8153-ab8ffb3a0ad9"
      },
      "execution_count": null,
      "outputs": [
        {
          "output_type": "display_data",
          "data": {
            "text/plain": [
              "<Figure size 1296x720 with 1 Axes>"
            ],
            "image/png": "[encoded data removed]"
          },
          "metadata": {
            "needs_background": "light"
          }
        }
      ]
    },
    {
      "cell_type": "markdown",
      "source": [
        "11.SPLITTING THE DATA INTO DEPENDENT AND INDEPENDENT VARIABLES"
      ],
      "metadata": {
        "id": "XV2MfdWuD9-y"
      }
    },
    {
      "cell_type": "code",
      "source": [
        "dependent=df.iloc[0:,3:5].values \n",
        "print(dependent)\n"
      ],
      "metadata": {
        "colab": {
          "base_uri": "https://localhost:8080/"
        },
        "id": "eGg1V85bEPsR",
        "outputId": "6e9bc3ee-e6be-460e-c980-4b1bfe365eb8"
      },
      "execution_count": null,
      "outputs": [
        {
          "output_type": "stream",
          "name": "stdout",
          "text": [
            "[[ 15  39]\n",
            " [ 15  81]\n",
            " [ 16   6]\n",
            " [ 16  77]\n",
            " [ 17  40]\n",
            " [ 17  76]\n",
            " [ 18   6]\n",
            " [ 18  94]\n",
            " [ 19   3]\n",
            " [ 19  72]\n",
            " [ 19  14]\n",
            " [ 19  99]\n",
            " [ 20  15]\n",
            " [ 20  77]\n",
            " [ 20  13]\n",
            " [ 20  79]\n",
            " [ 21  35]\n",
            " [ 21  66]\n",
            " [ 23  29]\n",
            " [ 23  98]\n",
            " [ 24  35]\n",
            " [ 24  73]\n",
            " [ 25   5]\n",
            " [ 25  73]\n",
            " [ 28  14]\n",
            " [ 28  82]\n",
            " [ 28  32]\n",
            " [ 28  61]\n",
            " [ 29  31]\n",
            " [ 29  87]\n",
            " [ 30   4]\n",
            " [ 30  73]\n",
            " [ 33   4]\n",
            " [ 33  92]\n",
            " [ 33  14]\n",
            " [ 33  81]\n",
            " [ 34  17]\n",
            " [ 34  73]\n",
            " [ 37  26]\n",
            " [ 37  75]\n",
            " [ 38  35]\n",
            " [ 38  92]\n",
            " [ 39  36]\n",
            " [ 39  61]\n",
            " [ 39  28]\n",
            " [ 39  65]\n",
            " [ 40  55]\n",
            " [ 40  47]\n",
            " [ 40  42]\n",
            " [ 40  42]\n",
            " [ 42  52]\n",
            " [ 42  60]\n",
            " [ 43  54]\n",
            " [ 43  60]\n",
            " [ 43  45]\n",
            " [ 43  41]\n",
            " [ 44  50]\n",
            " [ 44  46]\n",
            " [ 46  51]\n",
            " [ 46  46]\n",
            " [ 46  56]\n",
            " [ 46  55]\n",
            " [ 47  52]\n",
            " [ 47  59]\n",
            " [ 48  51]\n",
            " [ 48  59]\n",
            " [ 48  50]\n",
            " [ 48  48]\n",
            " [ 48  59]\n",
            " [ 48  47]\n",
            " [ 49  55]\n",
            " [ 49  42]\n",
            " [ 50  49]\n",
            " [ 50  56]\n",
            " [ 54  47]\n",
            " [ 54  54]\n",
            " [ 54  53]\n",
            " [ 54  48]\n",
            " [ 54  52]\n",
            " [ 54  42]\n",
            " [ 54  51]\n",
            " [ 54  55]\n",
            " [ 54  41]\n",
            " [ 54  44]\n",
            " [ 54  57]\n",
            " [ 54  46]\n",
            " [ 57  58]\n",
            " [ 57  55]\n",
            " [ 58  60]\n",
            " [ 58  46]\n",
            " [ 59  55]\n",
            " [ 59  41]\n",
            " [ 60  49]\n",
            " [ 60  40]\n",
            " [ 60  42]\n",
            " [ 60  52]\n",
            " [ 60  47]\n",
            " [ 60  50]\n",
            " [ 61  42]\n",
            " [ 61  49]\n",
            " [ 62  41]\n",
            " [ 62  48]\n",
            " [ 62  59]\n",
            " [ 62  55]\n",
            " [ 62  56]\n",
            " [ 62  42]\n",
            " [ 63  50]\n",
            " [ 63  46]\n",
            " [ 63  43]\n",
            " [ 63  48]\n",
            " [ 63  52]\n",
            " [ 63  54]\n",
            " [ 64  42]\n",
            " [ 64  46]\n",
            " [ 65  48]\n",
            " [ 65  50]\n",
            " [ 65  43]\n",
            " [ 65  59]\n",
            " [ 67  43]\n",
            " [ 67  57]\n",
            " [ 67  56]\n",
            " [ 67  40]\n",
            " [ 69  58]\n",
            " [ 69  91]\n",
            " [ 70  29]\n",
            " [ 70  77]\n",
            " [ 71  35]\n",
            " [ 71  95]\n",
            " [ 71  11]\n",
            " [ 71  75]\n",
            " [ 71   9]\n",
            " [ 71  75]\n",
            " [ 72  34]\n",
            " [ 72  71]\n",
            " [ 73   5]\n",
            " [ 73  88]\n",
            " [ 73   7]\n",
            " [ 73  73]\n",
            " [ 74  10]\n",
            " [ 74  72]\n",
            " [ 75   5]\n",
            " [ 75  93]\n",
            " [ 76  40]\n",
            " [ 76  87]\n",
            " [ 77  12]\n",
            " [ 77  97]\n",
            " [ 77  36]\n",
            " [ 77  74]\n",
            " [ 78  22]\n",
            " [ 78  90]\n",
            " [ 78  17]\n",
            " [ 78  88]\n",
            " [ 78  20]\n",
            " [ 78  76]\n",
            " [ 78  16]\n",
            " [ 78  89]\n",
            " [ 78   1]\n",
            " [ 78  78]\n",
            " [ 78   1]\n",
            " [ 78  73]\n",
            " [ 79  35]\n",
            " [ 79  83]\n",
            " [ 81   5]\n",
            " [ 81  93]\n",
            " [ 85  26]\n",
            " [ 85  75]\n",
            " [ 86  20]\n",
            " [ 86  95]\n",
            " [ 87  27]\n",
            " [ 87  63]\n",
            " [ 87  13]\n",
            " [ 87  75]\n",
            " [ 87  10]\n",
            " [ 87  92]\n",
            " [ 88  13]\n",
            " [ 88  86]\n",
            " [ 88  15]\n",
            " [ 88  69]\n",
            " [ 93  14]\n",
            " [ 93  90]\n",
            " [ 97  32]\n",
            " [ 97  86]\n",
            " [ 98  15]\n",
            " [ 98  88]\n",
            " [ 99  39]\n",
            " [ 99  97]\n",
            " [101  24]\n",
            " [101  68]\n",
            " [103  17]\n",
            " [103  85]\n",
            " [103  23]\n",
            " [103  69]\n",
            " [113   8]\n",
            " [113  91]\n",
            " [120  16]\n",
            " [120  79]\n",
            " [126  28]\n",
            " [126  74]\n",
            " [137  18]\n",
            " [137  83]]\n"
          ]
        }
      ]
    },
    {
      "cell_type": "code",
      "source": [
        "independent=df.iloc[0:,0:3].values\n",
        "print(independent)"
      ],
      "metadata": {
        "colab": {
          "base_uri": "https://localhost:8080/"
        },
        "id": "Vlw23VjBGuc5",
        "outputId": "530b271e-235a-466c-94c4-f20ad1d9c4fd"
      },
      "execution_count": null,
      "outputs": [
        {
          "output_type": "stream",
          "name": "stdout",
          "text": [
            "[[1 'Male' 19]\n",
            " [2 'Male' 21]\n",
            " [3 'Female' 20]\n",
            " [4 'Female' 23]\n",
            " [5 'Female' 31]\n",
            " [6 'Female' 22]\n",
            " [7 'Female' 35]\n",
            " [8 'Female' 23]\n",
            " [9 'Male' 64]\n",
            " [10 'Female' 30]\n",
            " [11 'Male' 67]\n",
            " [12 'Female' 35]\n",
            " [13 'Female' 58]\n",
            " [14 'Female' 24]\n",
            " [15 'Male' 37]\n",
            " [16 'Male' 22]\n",
            " [17 'Female' 35]\n",
            " [18 'Male' 20]\n",
            " [19 'Male' 52]\n",
            " [20 'Female' 35]\n",
            " [21 'Male' 35]\n",
            " [22 'Male' 25]\n",
            " [23 'Female' 46]\n",
            " [24 'Male' 31]\n",
            " [25 'Female' 54]\n",
            " [26 'Male' 29]\n",
            " [27 'Female' 45]\n",
            " [28 'Male' 35]\n",
            " [29 'Female' 40]\n",
            " [30 'Female' 23]\n",
            " [31 'Male' 60]\n",
            " [32 'Female' 21]\n",
            " [33 'Male' 53]\n",
            " [34 'Male' 18]\n",
            " [35 'Female' 49]\n",
            " [36 'Female' 21]\n",
            " [37 'Female' 42]\n",
            " [38 'Female' 30]\n",
            " [39 'Female' 36]\n",
            " [40 'Female' 20]\n",
            " [41 'Female' 65]\n",
            " [42 'Male' 24]\n",
            " [43 'Male' 48]\n",
            " [44 'Female' 31]\n",
            " [45 'Female' 49]\n",
            " [46 'Female' 24]\n",
            " [47 'Female' 50]\n",
            " [48 'Female' 27]\n",
            " [49 'Female' 29]\n",
            " [50 'Female' 31]\n",
            " [51 'Female' 49]\n",
            " [52 'Male' 33]\n",
            " [53 'Female' 31]\n",
            " [54 'Male' 59]\n",
            " [55 'Female' 50]\n",
            " [56 'Male' 47]\n",
            " [57 'Female' 51]\n",
            " [58 'Male' 69]\n",
            " [59 'Female' 27]\n",
            " [60 'Male' 53]\n",
            " [61 'Male' 70]\n",
            " [62 'Male' 19]\n",
            " [63 'Female' 67]\n",
            " [64 'Female' 54]\n",
            " [65 'Male' 63]\n",
            " [66 'Male' 18]\n",
            " [67 'Female' 43]\n",
            " [68 'Female' 68]\n",
            " [69 'Male' 19]\n",
            " [70 'Female' 32]\n",
            " [71 'Male' 70]\n",
            " [72 'Female' 47]\n",
            " [73 'Female' 60]\n",
            " [74 'Female' 60]\n",
            " [75 'Male' 59]\n",
            " [76 'Male' 26]\n",
            " [77 'Female' 45]\n",
            " [78 'Male' 40]\n",
            " [79 'Female' 23]\n",
            " [80 'Female' 49]\n",
            " [81 'Male' 57]\n",
            " [82 'Male' 38]\n",
            " [83 'Male' 67]\n",
            " [84 'Female' 46]\n",
            " [85 'Female' 21]\n",
            " [86 'Male' 48]\n",
            " [87 'Female' 55]\n",
            " [88 'Female' 22]\n",
            " [89 'Female' 34]\n",
            " [90 'Female' 50]\n",
            " [91 'Female' 68]\n",
            " [92 'Male' 18]\n",
            " [93 'Male' 48]\n",
            " [94 'Female' 40]\n",
            " [95 'Female' 32]\n",
            " [96 'Male' 24]\n",
            " [97 'Female' 47]\n",
            " [98 'Female' 27]\n",
            " [99 'Male' 48]\n",
            " [100 'Male' 20]\n",
            " [101 'Female' 23]\n",
            " [102 'Female' 49]\n",
            " [103 'Male' 67]\n",
            " [104 'Male' 26]\n",
            " [105 'Male' 49]\n",
            " [106 'Female' 21]\n",
            " [107 'Female' 66]\n",
            " [108 'Male' 54]\n",
            " [109 'Male' 68]\n",
            " [110 'Male' 66]\n",
            " [111 'Male' 65]\n",
            " [112 'Female' 19]\n",
            " [113 'Female' 38]\n",
            " [114 'Male' 19]\n",
            " [115 'Female' 18]\n",
            " [116 'Female' 19]\n",
            " [117 'Female' 63]\n",
            " [118 'Female' 49]\n",
            " [119 'Female' 51]\n",
            " [120 'Female' 50]\n",
            " [121 'Male' 27]\n",
            " [122 'Female' 38]\n",
            " [123 'Female' 40]\n",
            " [124 'Male' 39]\n",
            " [125 'Female' 23]\n",
            " [126 'Female' 31]\n",
            " [127 'Male' 43]\n",
            " [128 'Male' 40]\n",
            " [129 'Male' 59]\n",
            " [130 'Male' 38]\n",
            " [131 'Male' 47]\n",
            " [132 'Male' 39]\n",
            " [133 'Female' 25]\n",
            " [134 'Female' 31]\n",
            " [135 'Male' 20]\n",
            " [136 'Female' 29]\n",
            " [137 'Female' 44]\n",
            " [138 'Male' 32]\n",
            " [139 'Male' 19]\n",
            " [140 'Female' 35]\n",
            " [141 'Female' 57]\n",
            " [142 'Male' 32]\n",
            " [143 'Female' 28]\n",
            " [144 'Female' 32]\n",
            " [145 'Male' 25]\n",
            " [146 'Male' 28]\n",
            " [147 'Male' 48]\n",
            " [148 'Female' 32]\n",
            " [149 'Female' 34]\n",
            " [150 'Male' 34]\n",
            " [151 'Male' 43]\n",
            " [152 'Male' 39]\n",
            " [153 'Female' 44]\n",
            " [154 'Female' 38]\n",
            " [155 'Female' 47]\n",
            " [156 'Female' 27]\n",
            " [157 'Male' 37]\n",
            " [158 'Female' 30]\n",
            " [159 'Male' 34]\n",
            " [160 'Female' 30]\n",
            " [161 'Female' 56]\n",
            " [162 'Female' 29]\n",
            " [163 'Male' 19]\n",
            " [164 'Female' 31]\n",
            " [165 'Male' 50]\n",
            " [166 'Female' 36]\n",
            " [167 'Male' 42]\n",
            " [168 'Female' 33]\n",
            " [169 'Female' 36]\n",
            " [170 'Male' 32]\n",
            " [171 'Male' 40]\n",
            " [172 'Male' 28]\n",
            " [173 'Male' 36]\n",
            " [174 'Male' 36]\n",
            " [175 'Female' 52]\n",
            " [176 'Female' 30]\n",
            " [177 'Male' 58]\n",
            " [178 'Male' 27]\n",
            " [179 'Male' 59]\n",
            " [180 'Male' 35]\n",
            " [181 'Female' 37]\n",
            " [182 'Female' 32]\n",
            " [183 'Male' 46]\n",
            " [184 'Female' 29]\n",
            " [185 'Female' 41]\n",
            " [186 'Male' 30]\n",
            " [187 'Female' 54]\n",
            " [188 'Male' 28]\n",
            " [189 'Female' 41]\n",
            " [190 'Female' 36]\n",
            " [191 'Female' 34]\n",
            " [192 'Female' 32]\n",
            " [193 'Male' 33]\n",
            " [194 'Female' 38]\n",
            " [195 'Female' 47]\n",
            " [196 'Female' 35]\n",
            " [197 'Female' 45]\n",
            " [198 'Male' 32]\n",
            " [199 'Male' 32]\n",
            " [200 'Male' 30]]\n"
          ]
        }
      ]
    },
    {
      "cell_type": "markdown",
      "source": [
        "12.SPLITTING THE DATA INTO TRAINING AND TESTING"
      ],
      "metadata": {
        "id": "FwcrSzNVHPp6"
      }
    },
    {
      "cell_type": "code",
      "source": [
        "from sklearn.model_selection import train_test_split\n",
        "x_train,x_test,y_train,y_test=train_test_split(dependent,independent,test_size=0.4,random_state=0)\n",
        "print(\"x_train\")\n",
        "print(x_train)\n",
        "print(\"x_test\")\n",
        "print(x_test)\n",
        "print(\"y_train\")\n",
        "print(y_train)\n",
        "print(\"y_test\")\n",
        "print(y_test)"
      ],
      "metadata": {
        "colab": {
          "base_uri": "https://localhost:8080/"
        },
        "id": "04snAkVTHbLm",
        "outputId": "eed6f150-88e0-4827-af24-ea18bf48495f"
      },
      "execution_count": null,
      "outputs": [
        {
          "output_type": "stream",
          "name": "stdout",
          "text": [
            "x_train\n",
            "[[101  68]\n",
            " [ 40  55]\n",
            " [ 74  10]\n",
            " [120  79]\n",
            " [ 63  43]\n",
            " [ 47  52]\n",
            " [ 16   6]\n",
            " [ 46  46]\n",
            " [ 73   7]\n",
            " [126  74]\n",
            " [ 39  61]\n",
            " [ 19  14]\n",
            " [120  16]\n",
            " [ 50  56]\n",
            " [126  28]\n",
            " [ 93  14]\n",
            " [ 88  86]\n",
            " [ 71  35]\n",
            " [ 60  40]\n",
            " [ 64  42]\n",
            " [ 78   1]\n",
            " [103  69]\n",
            " [ 42  52]\n",
            " [ 15  39]\n",
            " [ 60  42]\n",
            " [ 63  52]\n",
            " [ 60  52]\n",
            " [ 48  51]\n",
            " [ 86  95]\n",
            " [ 38  92]\n",
            " [ 48  47]\n",
            " [ 40  42]\n",
            " [ 40  42]\n",
            " [ 54  46]\n",
            " [ 20  77]\n",
            " [ 79  83]\n",
            " [ 25  73]\n",
            " [101  24]\n",
            " [ 73  88]\n",
            " [ 24  35]\n",
            " [ 20  79]\n",
            " [ 54  52]\n",
            " [ 62  56]\n",
            " [ 43  54]\n",
            " [ 62  41]\n",
            " [ 54  53]\n",
            " [ 16  77]\n",
            " [ 65  43]\n",
            " [ 85  26]\n",
            " [137  18]\n",
            " [ 18   6]\n",
            " [ 48  59]\n",
            " [ 54  57]\n",
            " [ 67  40]\n",
            " [ 78  89]\n",
            " [ 87  75]\n",
            " [ 78   1]\n",
            " [ 59  41]\n",
            " [137  83]\n",
            " [ 19  99]\n",
            " [ 67  57]\n",
            " [ 62  59]\n",
            " [ 33  81]\n",
            " [ 44  46]\n",
            " [ 48  59]\n",
            " [ 15  81]\n",
            " [ 67  56]\n",
            " [ 81   5]\n",
            " [ 39  36]\n",
            " [ 62  42]\n",
            " [ 72  34]\n",
            " [ 87  92]\n",
            " [ 21  66]\n",
            " [ 37  26]\n",
            " [ 72  71]\n",
            " [ 43  60]\n",
            " [ 78  78]\n",
            " [ 71  11]\n",
            " [ 33  14]\n",
            " [ 29  31]\n",
            " [ 65  48]\n",
            " [ 78  88]\n",
            " [ 30  73]\n",
            " [ 86  20]\n",
            " [ 71  95]\n",
            " [ 88  15]\n",
            " [ 33   4]\n",
            " [ 76  40]\n",
            " [ 87  63]\n",
            " [ 77  74]\n",
            " [ 29  87]\n",
            " [ 61  49]\n",
            " [ 54  41]\n",
            " [ 54  42]\n",
            " [ 65  50]\n",
            " [ 78  22]\n",
            " [113  91]\n",
            " [ 50  49]\n",
            " [ 54  48]\n",
            " [ 28  82]\n",
            " [ 85  75]\n",
            " [ 54  55]\n",
            " [103  17]\n",
            " [ 88  13]\n",
            " [103  23]\n",
            " [ 37  75]\n",
            " [ 46  51]\n",
            " [ 75   5]\n",
            " [ 58  60]\n",
            " [ 49  55]\n",
            " [ 57  55]\n",
            " [ 34  17]\n",
            " [ 24  73]\n",
            " [ 19  72]\n",
            " [ 62  55]\n",
            " [ 48  48]\n",
            " [113   8]\n",
            " [ 65  59]\n",
            " [ 40  47]\n",
            " [ 87  10]]\n",
            "x_test\n",
            "[[ 23  29]\n",
            " [ 87  13]\n",
            " [ 63  46]\n",
            " [ 61  42]\n",
            " [ 88  69]\n",
            " [ 98  15]\n",
            " [ 17  76]\n",
            " [ 77  36]\n",
            " [ 20  15]\n",
            " [ 78  20]\n",
            " [ 46  55]\n",
            " [ 70  77]\n",
            " [ 97  32]\n",
            " [ 78  16]\n",
            " [ 54  51]\n",
            " [ 18  94]\n",
            " [ 33  92]\n",
            " [ 71   9]\n",
            " [ 34  73]\n",
            " [ 54  47]\n",
            " [ 98  88]\n",
            " [ 77  97]\n",
            " [ 39  65]\n",
            " [ 78  73]\n",
            " [ 46  56]\n",
            " [ 69  91]\n",
            " [ 93  90]\n",
            " [ 99  97]\n",
            " [ 69  58]\n",
            " [ 39  28]\n",
            " [ 21  35]\n",
            " [ 43  41]\n",
            " [ 78  17]\n",
            " [ 63  54]\n",
            " [ 25   5]\n",
            " [103  85]\n",
            " [ 71  75]\n",
            " [ 17  40]\n",
            " [ 54  44]\n",
            " [ 63  50]\n",
            " [ 73   5]\n",
            " [ 48  50]\n",
            " [ 28  32]\n",
            " [ 64  46]\n",
            " [ 87  27]\n",
            " [ 47  59]\n",
            " [ 19   3]\n",
            " [ 54  54]\n",
            " [ 67  43]\n",
            " [ 76  87]\n",
            " [ 49  42]\n",
            " [ 70  29]\n",
            " [ 99  39]\n",
            " [ 60  50]\n",
            " [ 78  90]\n",
            " [ 28  14]\n",
            " [ 30   4]\n",
            " [ 79  35]\n",
            " [ 38  35]\n",
            " [ 44  50]\n",
            " [ 71  75]\n",
            " [ 60  47]\n",
            " [ 97  86]\n",
            " [ 23  98]\n",
            " [ 78  76]\n",
            " [ 60  49]\n",
            " [ 43  45]\n",
            " [ 81  93]\n",
            " [ 42  60]\n",
            " [ 57  58]\n",
            " [ 74  72]\n",
            " [ 59  55]\n",
            " [ 73  73]\n",
            " [ 62  48]\n",
            " [ 77  12]\n",
            " [ 58  46]\n",
            " [ 63  48]\n",
            " [ 20  13]\n",
            " [ 28  61]\n",
            " [ 75  93]]\n",
            "y_train\n",
            "[[188 'Male' 28]\n",
            " [47 'Female' 50]\n",
            " [139 'Male' 19]\n",
            " [196 'Female' 35]\n",
            " [109 'Male' 68]\n",
            " [63 'Female' 67]\n",
            " [3 'Female' 20]\n",
            " [60 'Male' 53]\n",
            " [137 'Female' 44]\n",
            " [198 'Male' 32]\n",
            " [44 'Female' 31]\n",
            " [11 'Male' 67]\n",
            " [195 'Female' 47]\n",
            " [74 'Female' 60]\n",
            " [197 'Female' 45]\n",
            " [179 'Male' 59]\n",
            " [176 'Female' 30]\n",
            " [127 'Male' 43]\n",
            " [94 'Female' 40]\n",
            " [113 'Female' 38]\n",
            " [159 'Male' 34]\n",
            " [192 'Female' 32]\n",
            " [51 'Female' 49]\n",
            " [1 'Male' 19]\n",
            " [95 'Female' 32]\n",
            " [111 'Male' 65]\n",
            " [96 'Male' 24]\n",
            " [65 'Male' 63]\n",
            " [168 'Female' 33]\n",
            " [42 'Male' 24]\n",
            " [70 'Female' 32]\n",
            " [50 'Female' 31]\n",
            " [49 'Female' 29]\n",
            " [86 'Male' 48]\n",
            " [14 'Female' 24]\n",
            " [162 'Female' 29]\n",
            " [24 'Male' 31]\n",
            " [187 'Female' 54]\n",
            " [136 'Female' 29]\n",
            " [21 'Male' 35]\n",
            " [16 'Male' 22]\n",
            " [79 'Female' 23]\n",
            " [105 'Male' 49]\n",
            " [53 'Female' 31]\n",
            " [101 'Female' 23]\n",
            " [77 'Female' 45]\n",
            " [4 'Female' 23]\n",
            " [117 'Female' 63]\n",
            " [165 'Male' 50]\n",
            " [199 'Male' 32]\n",
            " [7 'Female' 35]\n",
            " [69 'Male' 19]\n",
            " [85 'Female' 21]\n",
            " [122 'Female' 38]\n",
            " [156 'Female' 27]\n",
            " [172 'Male' 28]\n",
            " [157 'Male' 37]\n",
            " [92 'Male' 18]\n",
            " [200 'Male' 30]\n",
            " [12 'Female' 35]\n",
            " [120 'Female' 50]\n",
            " [103 'Male' 67]\n",
            " [36 'Female' 21]\n",
            " [58 'Male' 69]\n",
            " [66 'Male' 18]\n",
            " [2 'Male' 21]\n",
            " [121 'Male' 27]\n",
            " [163 'Male' 19]\n",
            " [43 'Male' 48]\n",
            " [106 'Female' 21]\n",
            " [133 'Female' 25]\n",
            " [174 'Male' 36]\n",
            " [18 'Male' 20]\n",
            " [39 'Female' 36]\n",
            " [134 'Female' 31]\n",
            " [54 'Male' 59]\n",
            " [158 'Female' 30]\n",
            " [129 'Male' 59]\n",
            " [35 'Female' 49]\n",
            " [29 'Female' 40]\n",
            " [115 'Female' 18]\n",
            " [152 'Male' 39]\n",
            " [32 'Female' 21]\n",
            " [167 'Male' 42]\n",
            " [128 'Male' 40]\n",
            " [177 'Male' 58]\n",
            " [33 'Male' 53]\n",
            " [143 'Female' 28]\n",
            " [170 'Male' 32]\n",
            " [148 'Female' 32]\n",
            " [30 'Female' 23]\n",
            " [100 'Male' 20]\n",
            " [83 'Male' 67]\n",
            " [80 'Female' 49]\n",
            " [116 'Female' 19]\n",
            " [149 'Female' 34]\n",
            " [194 'Female' 38]\n",
            " [73 'Female' 60]\n",
            " [78 'Male' 40]\n",
            " [26 'Male' 29]\n",
            " [166 'Female' 36]\n",
            " [82 'Male' 38]\n",
            " [189 'Female' 41]\n",
            " [175 'Female' 52]\n",
            " [191 'Female' 34]\n",
            " [40 'Female' 20]\n",
            " [59 'Female' 27]\n",
            " [141 'Female' 57]\n",
            " [89 'Female' 34]\n",
            " [71 'Male' 70]\n",
            " [88 'Female' 22]\n",
            " [37 'Female' 42]\n",
            " [22 'Male' 25]\n",
            " [10 'Female' 30]\n",
            " [104 'Male' 26]\n",
            " [68 'Female' 68]\n",
            " [193 'Male' 33]\n",
            " [118 'Female' 49]\n",
            " [48 'Female' 27]\n",
            " [173 'Male' 36]]\n",
            "y_test\n",
            "[[19 'Male' 52]\n",
            " [171 'Male' 40]\n",
            " [108 'Male' 54]\n",
            " [99 'Male' 48]\n",
            " [178 'Male' 27]\n",
            " [183 'Male' 46]\n",
            " [6 'Female' 22]\n",
            " [147 'Male' 48]\n",
            " [13 'Female' 58]\n",
            " [153 'Female' 44]\n",
            " [62 'Male' 19]\n",
            " [126 'Female' 31]\n",
            " [181 'Female' 37]\n",
            " [155 'Female' 47]\n",
            " [81 'Male' 57]\n",
            " [8 'Female' 23]\n",
            " [34 'Male' 18]\n",
            " [131 'Male' 47]\n",
            " [38 'Female' 30]\n",
            " [75 'Male' 59]\n",
            " [184 'Female' 29]\n",
            " [146 'Male' 28]\n",
            " [46 'Female' 24]\n",
            " [160 'Female' 30]\n",
            " [61 'Male' 70]\n",
            " [124 'Male' 39]\n",
            " [180 'Male' 35]\n",
            " [186 'Male' 30]\n",
            " [123 'Female' 40]\n",
            " [45 'Female' 49]\n",
            " [17 'Female' 35]\n",
            " [56 'Male' 47]\n",
            " [151 'Male' 43]\n",
            " [112 'Female' 19]\n",
            " [23 'Female' 46]\n",
            " [190 'Female' 36]\n",
            " [130 'Male' 38]\n",
            " [5 'Female' 31]\n",
            " [84 'Female' 46]\n",
            " [107 'Female' 66]\n",
            " [135 'Male' 20]\n",
            " [67 'Female' 43]\n",
            " [27 'Female' 45]\n",
            " [114 'Male' 19]\n",
            " [169 'Female' 36]\n",
            " [64 'Female' 54]\n",
            " [9 'Male' 64]\n",
            " [76 'Male' 26]\n",
            " [119 'Female' 51]\n",
            " [144 'Female' 32]\n",
            " [72 'Female' 47]\n",
            " [125 'Female' 23]\n",
            " [185 'Female' 41]\n",
            " [98 'Female' 27]\n",
            " [150 'Male' 34]\n",
            " [25 'Female' 54]\n",
            " [31 'Male' 60]\n",
            " [161 'Female' 56]\n",
            " [41 'Female' 65]\n",
            " [57 'Female' 51]\n",
            " [132 'Male' 39]\n",
            " [97 'Female' 47]\n",
            " [182 'Female' 32]\n",
            " [20 'Female' 35]\n",
            " [154 'Female' 38]\n",
            " [93 'Male' 48]\n",
            " [55 'Female' 50]\n",
            " [164 'Female' 31]\n",
            " [52 'Male' 33]\n",
            " [87 'Female' 55]\n",
            " [140 'Female' 35]\n",
            " [91 'Female' 68]\n",
            " [138 'Male' 32]\n",
            " [102 'Female' 49]\n",
            " [145 'Male' 25]\n",
            " [90 'Female' 50]\n",
            " [110 'Male' 66]\n",
            " [15 'Male' 37]\n",
            " [28 'Male' 35]\n",
            " [142 'Male' 32]]\n"
          ]
        }
      ]
    },
    {
      "cell_type": "markdown",
      "source": [
        "13.BUILDING THE MODEL"
      ],
      "metadata": {
        "id": "enWXaZeZIsfG"
      }
    },
    {
      "cell_type": "code",
      "source": [
        "\n",
        "plt.rcParams['figure.figsize']=(20,18)\n",
        "sns.violinplot(df['Age'],df['Annual Income (k$)'],hue=df['Spending Score (1-100)'],palette='Set1')\n",
        "plt.title('Age Vs Annual Income Vs Spending Score')"
      ],
      "metadata": {
        "colab": {
          "base_uri": "https://localhost:8080/",
          "height": 1000
        },
        "id": "_Ue5AK-b1bxr",
        "outputId": "683469d7-0291-423e-c495-86294019601c"
      },
      "execution_count": null,
      "outputs": [
        {
          "output_type": "execute_result",
          "data": {
            "text/plain": [
              "Text(0.5, 1.0, 'Age Vs Annual Income Vs Spending Score')"
            ]
          },
          "metadata": {},
          "execution_count": 21
        },
        {
          "output_type": "display_data",
          "data": {
            "text/plain": [
              "<Figure size 1440x1296 with 1 Axes>"
            ],
            "image/png": "[encoded data removed]"
          },
          "metadata": {
            "needs_background": "light"
          }
        }
      ]
    },
    {
      "cell_type": "code",
      "source": [
        "plt.rcParams['figure.figsize']=(18,10)\n",
        "sns.swarmplot(df['Age'],df['Annual Income (k$)'],palette='dark')\n",
        "plt.title('Age Vs Annual Income')"
      ],
      "metadata": {
        "colab": {
          "base_uri": "https://localhost:8080/",
          "height": 639
        },
        "id": "YNHI1AxQ4iUq",
        "outputId": "56cf4846-61e2-49a2-9f55-ee752b227fae"
      },
      "execution_count": null,
      "outputs": [
        {
          "output_type": "execute_result",
          "data": {
            "text/plain": [
              "Text(0.5, 1.0, 'Age Vs Annual Income')"
            ]
          },
          "metadata": {},
          "execution_count": 22
        },
        {
          "output_type": "display_data",
          "data": {
            "text/plain": [
              "<Figure size 1296x720 with 1 Axes>"
            ],
            "image/png": "[encoded data removed]"
          },
          "metadata": {
            "needs_background": "light"
          }
        }
      ]
    },
    {
      "cell_type": "markdown",
      "source": [
        "14.TRAINING THE MODEL"
      ],
      "metadata": {
        "id": "jvwIvhj6JWwg"
      }
    },
    {
      "cell_type": "code",
      "source": [
        "print(\"Shape of x_train:\",x_train.shape)\n",
        "print(\"Shape of y_train:\",y_train.shape)"
      ],
      "metadata": {
        "colab": {
          "base_uri": "https://localhost:8080/"
        },
        "id": "CACoGlwoJe4K",
        "outputId": "a93b54b0-eeb4-4138-dbb8-8f4b8e2cf171"
      },
      "execution_count": null,
      "outputs": [
        {
          "output_type": "stream",
          "name": "stdout",
          "text": [
            "Shape of x_train: (120, 2)\n",
            "Shape of y_train: (120, 3)\n"
          ]
        }
      ]
    },
    {
      "cell_type": "markdown",
      "source": [
        "15.TESTING THE MODEL"
      ],
      "metadata": {
        "id": "_HcNXs35glHJ"
      }
    },
    {
      "cell_type": "code",
      "source": [
        "print(\"Shape of x_test:\",x_test.shape)\n",
        "print(\"Shape of y_test:\",y_test.shape)"
      ],
      "metadata": {
        "colab": {
          "base_uri": "https://localhost:8080/"
        },
        "id": "HNmQQpBfgqFs",
        "outputId": "4fba76bc-e8b0-4273-bb34-d074b84ef063"
      },
      "execution_count": null,
      "outputs": [
        {
          "output_type": "stream",
          "name": "stdout",
          "text": [
            "Shape of x_test: (80, 2)\n",
            "Shape of y_test: (80, 3)\n"
          ]
        }
      ]
    },
    {
      "cell_type": "markdown",
      "source": [
        "16.MEASURING THE PERFORMANCE USING METRICS"
      ],
      "metadata": {
        "id": "FzzQcbvDhmGg"
      }
    },
    {
      "cell_type": "code",
      "source": [
        "from sklearn.cluster import KMeans\n",
        "import numpy as np\n",
        "df1=df[[\"CustomerID\",\"Gender\",\"Age\",\"Annual Income (k$)\",\"Spending Score (1-100)\"]]\n",
        "X=df1[[\"Annual Income (k$)\",\"Spending Score (1-100)\"]]\n",
        "\n",
        "wcss=[]\n",
        "for i in range(1,11):\n",
        "    km=KMeans(n_clusters=i)\n",
        "    km.fit(X)\n",
        "    wcss.append(km.inertia_)\n",
        "\n",
        "#The elbow curve\n",
        "plt.figure(figsize=(12,6))\n",
        "plt.plot(range(1,11),wcss)\n",
        "plt.plot(range(1,11),wcss, linewidth=2, color=\"red\", marker =\"8\")\n",
        "plt.xlabel(\"K Value\")\n",
        "plt.xticks(np.arange(1,11,1))\n",
        "plt.ylabel(\"WCSS\")\n",
        "plt.show()\n",
        "\n"
      ],
      "metadata": {
        "colab": {
          "base_uri": "https://localhost:8080/",
          "height": 388
        },
        "id": "BEdLwxd_Z0MU",
        "outputId": "653f43bb-4ec2-44b9-c2b7-b6668f3820a5"
      },
      "execution_count": 21,
      "outputs": [
        {
          "output_type": "display_data",
          "data": {
            "text/plain": [
              "<Figure size 864x432 with 1 Axes>"
            ],
            "image/png": "[encoded data removed]"
          },
          "metadata": {
            "needs_background": "light"
          }
        }
      ]
    }
  ]
}